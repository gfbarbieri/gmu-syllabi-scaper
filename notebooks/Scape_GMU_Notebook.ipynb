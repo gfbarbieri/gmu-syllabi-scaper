{
 "cells": [
  {
   "cell_type": "markdown",
   "metadata": {},
   "source": [
    "### Import Libraries"
   ]
  },
  {
   "cell_type": "code",
   "execution_count": 4,
   "metadata": {},
   "outputs": [],
   "source": [
    "import os\n",
    "import pickle\n",
    "import requests\n",
    "\n",
    "from bs4 import BeautifulSoup"
   ]
  },
  {
   "cell_type": "markdown",
   "metadata": {},
   "source": [
    "### Make a Request"
   ]
  },
  {
   "cell_type": "code",
   "execution_count": 6,
   "metadata": {},
   "outputs": [],
   "source": [
    "def make_request(url=\"https://economics.gmu.edu/course_sections\",\n",
    "                 headers={'User-Agent': 'Chrome/74.0.3729.169'},\n",
    "                 params={'term': '201970'},\n",
    "                 print_info=False):\n",
    "    '''\n",
    "    Submits a GET request using the Requests library for a given URL. Default values are from George Mason\n",
    "    Economics Department website. Returns a Request object.\n",
    "    '''\n",
    "    try:\n",
    "        response = requests.get(url, headers=headers, params=params)\n",
    "    except requests.exceptions.RequestException as e:\n",
    "        raise SystemExit(e)\n",
    "\n",
    "    if print_info == True:\n",
    "        print(response.url, response.status_code)\n",
    "\n",
    "    return response"
   ]
  },
  {
   "cell_type": "markdown",
   "metadata": {},
   "source": [
    "### Build List of Semesters Available"
   ]
  },
  {
   "cell_type": "code",
   "execution_count": 7,
   "metadata": {},
   "outputs": [],
   "source": [
    "def build_semester_list():    \n",
    "    '''\n",
    "    From the Geroge Mason website, return all semesters with data available from the dropdown menu. Returns a list\n",
    "    of values which represent a semester.\n",
    "    '''\n",
    "    #Make default request.\n",
    "    response = make_request()\n",
    "\n",
    "    #Parse resulting HTML data.\n",
    "    soup = BeautifulSoup(response.text)\n",
    "\n",
    "    #Semesters available are those available thourhg the drop-down menu. Search for drop-down menu options.\n",
    "    avail_semesters = soup.find_all('select', id='term-select')    \n",
    "\n",
    "    #Loop over each option in the drop-down menu. For each option, determine the code for the website url and its text\n",
    "    #name. [1:] removes the default menu title \"Choose a term\".\n",
    "    semesters = []\n",
    "\n",
    "    for sem in avail_semesters[0].find_all('option')[1:]:\n",
    "        semesters.append([sem['value'], sem.text])\n",
    "\n",
    "    return semesters"
   ]
  },
  {
   "cell_type": "markdown",
   "metadata": {},
   "source": [
    "### Download GMU Website HTML"
   ]
  },
  {
   "cell_type": "code",
   "execution_count": 21,
   "metadata": {},
   "outputs": [],
   "source": [
    "def download_html(semesters, directory, file_name):\n",
    "    '''\n",
    "    Download the HTML using the Requests library. User supplied list has parameters needed for the make_requests function.\n",
    "    Returns a dictionary, but also saves the dictoinary as a Pickle file in a user-defined directory.\n",
    "    '''\n",
    "    semester_html_data = {}\n",
    "\n",
    "    #Download GMU Website HTML for each semester, store in a dictionary.\n",
    "    for sem_value, sem_string in semesters:\n",
    "        params = {'term': sem_value}\n",
    "        response = make_request(params=params)\n",
    "        \n",
    "        #Replace \"Fall 2019\" with \"Fall_2019\", it helps later if one wants to use it as a file name.\n",
    "        sem_string = sem_string.replace(' ','_')\n",
    "        semester_html_data[sem_string] = {}\n",
    "        semester_html_data[sem_string]['value'] = sem_value\n",
    "        semester_html_data[sem_string]['url'] = response.url\n",
    "        semester_html_data[sem_string]['response'] = response\n",
    "\n",
    "    #Save the resulting dictionary as a Pickle file.\n",
    "    path = os.path.join(directory, file_name)\n",
    "\n",
    "    #Create directory if directory does not exist.\n",
    "    if not os.path.exists(directory):\n",
    "        os.makedirs(directory)\n",
    "\n",
    "    #Write dictionary as Pickle file.\n",
    "    with open(path,'wb') as file:\n",
    "        pickle.dump(semester_html_data, file)\n",
    "\n",
    "    return semester_html_data"
   ]
  },
  {
   "cell_type": "markdown",
   "metadata": {},
   "source": [
    "### Download Syllabi"
   ]
  },
  {
   "cell_type": "code",
   "execution_count": 9,
   "metadata": {},
   "outputs": [],
   "source": [
    "def download_syllabi(directory, file, url, params):\n",
    "    '''\n",
    "    Download syllabus at the url and save it to the user-defined directory.\n",
    "    '''\n",
    "    #Assign path, create if it does not exist.\n",
    "    path = os.path.join(directory, file)\n",
    "\n",
    "    #Write \n",
    "    if not os.path.exists(directory):\n",
    "        os.makedirs(directory)\n",
    "\n",
    "    #Download PDFs.\n",
    "    response_pdf = make_request(url=url, params=params)\n",
    "\n",
    "    #Write to drive.\n",
    "    with open(path, \"wb\") as pdf:\n",
    "        for chunk in response_pdf.iter_content():\n",
    "            pdf.write(chunk)"
   ]
  },
  {
   "cell_type": "markdown",
   "metadata": {},
   "source": [
    "### Compile Course Syllabi"
   ]
  },
  {
   "cell_type": "code",
   "execution_count": 60,
   "metadata": {},
   "outputs": [],
   "source": [
    "def edit_text(text):\n",
    "    '''\n",
    "    Edit text, specifically the course titles from various link and header sections of the HTML.\n",
    "    '''\n",
    "    text = (text.strip()\n",
    "            .replace(':','')\n",
    "            .replace(',','')\n",
    "            .replace('\\'','')\n",
    "            .replace(' ','_')\n",
    "            .replace('&','')\n",
    "            .replace('.',''))\n",
    "    \n",
    "    return text"
   ]
  },
  {
   "cell_type": "code",
   "execution_count": 64,
   "metadata": {},
   "outputs": [],
   "source": [
    "def course_title_parser(html):\n",
    "    '''\n",
    "    Takes the course block and parses out and returns the course title.\n",
    "    '''\n",
    "    #Parse HTML for header section.\n",
    "    course_header = html.find('header').text.split('\\n')    \n",
    "    course_header_title = course_header[2]\n",
    "    \n",
    "    #Initially, set course title is to the course title parsed from the course header.\n",
    "    course_title = edit_text(course_header_title)\n",
    "    \n",
    "    #If the course title parsed from the header is \"Special Topics in Economics\", then instead of using\n",
    "    #the course title parsed from the header, update the course title to the course title parsed from\n",
    "    #the links for each individual section of the course offered.\n",
    "    if course_title == 'Special_Topics_in_Economics':\n",
    "        course_links = html.find_all('a')\n",
    "        for link in course_links:\n",
    "            if len(link.text.split(':')) > 1:\n",
    "                course_title = edit_text(link.text.split(':')[1])\n",
    "    \n",
    "    return course_title"
   ]
  },
  {
   "cell_type": "code",
   "execution_count": 124,
   "metadata": {},
   "outputs": [],
   "source": [
    "def course_syllabi_parser(html):\n",
    "    '''\n",
    "    Parse the HTML for a course syllabus URL.\n",
    "    '''\n",
    "    course_links = html.find_all('a')\n",
    "\n",
    "    course_syllabus_link = []\n",
    "    \n",
    "    for link in course_links:\n",
    "        if link.text == \"Section Syllabus\":\n",
    "            has_syllabus = True\n",
    "            pdf_url = 'https:{}'.format(link['href'].split(\"?\")[0])\n",
    "            pdf_params = link['href'].split(\"?\")[1]\n",
    "            pdf_file_name = os.path.basename(pdf_url)\n",
    "            course_syllabus_link.append([pdf_file_name, pdf_url, pdf_params])\n",
    "            \n",
    "    return course_syllabus_link"
   ]
  },
  {
   "cell_type": "code",
   "execution_count": 119,
   "metadata": {
    "scrolled": true
   },
   "outputs": [],
   "source": [
    "def compile_course_syllabi(html_dictionary):\n",
    "    '''\n",
    "    Comple course titles, syllabi url details, and file names. Returns a list with each course section syallbus as\n",
    "    an element associated with the course title.\n",
    "    '''\n",
    "    gmu_econ_syllabi = []\n",
    "\n",
    "    #For each semester and course block, find each course title and course syllabus for each course section.\n",
    "    for semester, course_block in gmu_html_dict.items():\n",
    "        block_soup = BeautifulSoup(course_block['response'].text)\n",
    "        sem_course_content = block_soup.find_all('div', class_='course content')\n",
    "\n",
    "        for course in sem_course_content:\n",
    "            #Parse the course content for the course title.\n",
    "            course_title = course_title_parser(course)\n",
    "\n",
    "            #Parse course content for the url to the course syllabus.\n",
    "            course_syllabi = course_syllabi_parser(course)\n",
    "\n",
    "            #Append course title and syllabus details to list.\n",
    "            gmu_econ_syllabi.append([semester, course_title, course_syllabi])\n",
    "\n",
    "    return gmu_econ_syllabi        "
   ]
  },
  {
   "cell_type": "markdown",
   "metadata": {},
   "source": [
    "### Driver"
   ]
  },
  {
   "cell_type": "code",
   "execution_count": 126,
   "metadata": {
    "scrolled": true
   },
   "outputs": [
    {
     "data": {
      "text/plain": [
       "{'Fall_2019': {'value': '201970',\n",
       "  'url': 'https://economics.gmu.edu/course_sections?term=201970',\n",
       "  'response': <Response [200]>}}"
      ]
     },
     "execution_count": 126,
     "metadata": {},
     "output_type": "execute_result"
    }
   ],
   "source": [
    "semester_list = build_semester_list()\n",
    "\n",
    "gmu_html_dict = download_html(semesters=semester_list,\n",
    "                              directory='html-data',\n",
    "                              file_name='gmu-semester-html')\n",
    "\n",
    "gmu_syllabi_list = compile_course_syllabi(gmu_html_dict)\n",
    "\n",
    "for semester, course_title, syllabi in gmu_syllabi_list:\n",
    "    for syllabus in syllabi:\n",
    "        out_dir = os.path.join('gmu-syllabi', course_title, semester)\n",
    "        download_syllabi(directory=out_dir, file=syllabus[0], url=syllabus[1], params=syllabus[2])"
   ]
  }
 ],
 "metadata": {
  "hide_input": false,
  "kernelspec": {
   "display_name": "Python 3",
   "language": "python",
   "name": "python3"
  },
  "language_info": {
   "codemirror_mode": {
    "name": "ipython",
    "version": 3
   },
   "file_extension": ".py",
   "mimetype": "text/x-python",
   "name": "python",
   "nbconvert_exporter": "python",
   "pygments_lexer": "ipython3",
   "version": "3.7.6"
  },
  "varInspector": {
   "cols": {
    "lenName": 16,
    "lenType": 16,
    "lenVar": 40
   },
   "kernels_config": {
    "python": {
     "delete_cmd_postfix": "",
     "delete_cmd_prefix": "del ",
     "library": "var_list.py",
     "varRefreshCmd": "print(var_dic_list())"
    },
    "r": {
     "delete_cmd_postfix": ") ",
     "delete_cmd_prefix": "rm(",
     "library": "var_list.r",
     "varRefreshCmd": "cat(var_dic_list()) "
    }
   },
   "types_to_exclude": [
    "module",
    "function",
    "builtin_function_or_method",
    "instance",
    "_Feature"
   ],
   "window_display": false
  }
 },
 "nbformat": 4,
 "nbformat_minor": 4
}
